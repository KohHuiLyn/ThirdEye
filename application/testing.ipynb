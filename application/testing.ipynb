{
 "cells": [
  {
   "cell_type": "code",
   "execution_count": 6,
   "metadata": {},
   "outputs": [],
   "source": [
    "import cv2\n",
    "def convert_to_avc1(input, output, fps: int = 0, frame_size: tuple = (), fourcc: str = \"H264\"):\n",
    "    vidcap = cv2.VideoCapture(input)\n",
    "    if not fps:\n",
    "        fps = round(vidcap.get(cv2.CAP_PROP_FPS))\n",
    "    success, arr = vidcap.read()\n",
    "    if not frame_size:\n",
    "        height, width, _ = arr.shape\n",
    "        frame_size = width, height\n",
    "    writer = cv2.VideoWriter(\n",
    "        output,\n",
    "        apiPreference=0,\n",
    "        fourcc=cv2.VideoWriter_fourcc(*fourcc),\n",
    "        fps=fps,\n",
    "        frameSize=frame_size\n",
    "    )\n",
    "    while True:\n",
    "        if not success:\n",
    "            break\n",
    "        writer.write(arr)\n",
    "        success, arr = vidcap.read()\n",
    "    writer.release()\n",
    "    vidcap.release()\n",
    "\n",
    "convert_to_avc1(\"THISVIDEOWORKSGUYS.mp4\", output=\"test.mp4\")"
   ]
  }
 ],
 "metadata": {
  "kernelspec": {
   "display_name": "Python 3.8.3 64-bit",
   "language": "python",
   "name": "python3"
  },
  "language_info": {
   "codemirror_mode": {
    "name": "ipython",
    "version": 3
   },
   "file_extension": ".py",
   "mimetype": "text/x-python",
   "name": "python",
   "nbconvert_exporter": "python",
   "pygments_lexer": "ipython3",
   "version": "3.8.3"
  },
  "orig_nbformat": 4,
  "vscode": {
   "interpreter": {
    "hash": "5847679531e3f9304a3a8ef6114956a2c42debadec01ad9267caa9163ec388c2"
   }
  }
 },
 "nbformat": 4,
 "nbformat_minor": 2
}
